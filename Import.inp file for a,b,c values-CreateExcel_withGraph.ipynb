{
 "cells": [
  {
   "cell_type": "code",
   "execution_count": 44,
   "id": "268af0f4",
   "metadata": {},
   "outputs": [],
   "source": [
    "import shutil\n",
    "import openpyxl\n",
    "from openpyxl import Workbook, load_workbook\n",
    "import numpy as np\n",
    "from openpyxl.chart import ScatterChart, Reference, Series"
   ]
  },
  {
   "cell_type": "markdown",
   "id": "c1610d34",
   "metadata": {},
   "source": [
    "# Path of the Curve Points exported after each iteration"
   ]
  },
  {
   "cell_type": "code",
   "execution_count": 45,
   "id": "17f0737e",
   "metadata": {},
   "outputs": [],
   "source": [
    "peak_path=r'C:\\Users\\kaamil.kaleem\\OneDrive - Vibracoustic\\New_fixture\\TeCo_Dyn_Parameters_Characteriziation_E650\\opt_files\\dyn_curve\\TeCo_Dynamic_NR-E650B-450'"
   ]
  },
  {
   "cell_type": "markdown",
   "id": "802012b3",
   "metadata": {},
   "source": [
    "# Path of .inp file (a,b,c values) "
   ]
  },
  {
   "cell_type": "code",
   "execution_count": 46,
   "id": "83a45038",
   "metadata": {},
   "outputs": [],
   "source": [
    "path =r'C:\\Users\\kaamil.kaleem\\OneDrive - Vibracoustic\\New_fixture\\TeCo_Dyn_Parameters_Characteriziation_E650\\opt_files\\inp file\\TeCo_Dynamic_NR-E650B-450'"
   ]
  },
  {
   "cell_type": "markdown",
   "id": "a1fbbe59",
   "metadata": {},
   "source": [
    "# Function to extract a, b, c values from .inp file"
   ]
  },
  {
   "cell_type": "code",
   "execution_count": 47,
   "id": "12faf99c",
   "metadata": {},
   "outputs": [],
   "source": [
    "def ext_abc(path2):\n",
    "    f=open(path2)\n",
    "    inp = f.readlines()\n",
    "    A=''\n",
    "    for j in range(1,4):\n",
    "        for i in range(2, len(inp[j])):\n",
    "            A+=inp[j][i].replace('\\n',', ')\n",
    "    string = A.strip(', ')\n",
    "    lst =[float(x) for x in string.split(',')]\n",
    "    return lst"
   ]
  },
  {
   "cell_type": "markdown",
   "id": "1f6a9a18",
   "metadata": {},
   "source": [
    "# Function to extract curve points "
   ]
  },
  {
   "cell_type": "code",
   "execution_count": 48,
   "id": "7333363a",
   "metadata": {},
   "outputs": [],
   "source": [
    "def ext_pp(peak_path2):\n",
    "    file = open(peak_path2)\n",
    "    p=file.read()\n",
    "    v=p.strip('\\n')\n",
    "    k=v.split('\\n')\n",
    "    frq =[]\n",
    "    d_stf=[]\n",
    "    for j in range(len(k)):\n",
    "        val=k[j].split(',')\n",
    "        frq.append(val[0])\n",
    "        d_stf.append(val[1])\n",
    "    return frq, d_stf"
   ]
  },
  {
   "cell_type": "markdown",
   "id": "875f60c7",
   "metadata": {},
   "source": [
    "# Main part of the code that exports/creates the Excel file"
   ]
  },
  {
   "cell_type": "code",
   "execution_count": 49,
   "id": "b86c43cd",
   "metadata": {},
   "outputs": [],
   "source": [
    "path_excel_2 = r\"C:\\Users\\kaamil.kaleem\\OneDrive - Vibracoustic\\Desktop\\Macro_test_withchart.xlsx\"\n",
    "wb = openpyxl.Workbook()\n",
    "ws_active=wb.active\n",
    "#Code to extract a, b, c values \n",
    "for i in range(38):\n",
    "    if i<10:\n",
    "        path2=path+f\"_000{i}.inp\"\n",
    "    else:\n",
    "        path2=path+f\"_00{i}.inp\"\n",
    "    \n",
    "    lst=ext_abc(path2)\n",
    "    \n",
    "    #Creating a new worksheet\n",
    "    ws_new = wb.create_sheet(f\"Sheet{i}\")\n",
    "    \n",
    "    #Creating the template\n",
    "    ws_new['A1'] = 'Gmod'\n",
    "    ws_new['A2'] = 'A'\n",
    "    ws_new['A3'] = 'B'\n",
    "    ws_new['A4'] = 'C'\n",
    "    ws_new['A5'] = 'Static Stifness'\n",
    "    ws_new['B1'] = 0.56\n",
    "    ws_new['B5'] = 5.12\n",
    "    ws_new['D1'] = 'fqr'\n",
    "    ws_new['E1'] = 'Dyn'\n",
    "    ws_new['F1'] = 'Norm Frq'\n",
    "    ws_new['G1'] = 'Norm Dyn'\n",
    "    ws_new['I1'] = 'Max peak'\n",
    "    ws_new['I2'] = 'Width peak'\n",
    "    ws_new['I3'] = 'Frq Peak'\n",
    "    \n",
    "    #pasting values in the cells of the new sheet\n",
    "    ws_new['B2'].value=lst[0]\n",
    "    ws_new['B3'].value=lst[1]\n",
    "    ws_new['B4'].value=lst[2]\n",
    "    if i<10:\n",
    "        peak_path2=peak_path+f\"_000{i}_test.dyn_curve\"\n",
    "    else:\n",
    "        peak_path2=peak_path+f\"_00{i}_test.dyn_curve\"\n",
    "    frq, d_stf =ext_pp(peak_path2)\n",
    "    f_values= []\n",
    "    d_stf_values = []\n",
    "    for j in range(len(frq)):\n",
    "        ws_new[f'D{j+2}'].value=float(frq[j])\n",
    "        ws_new[f'E{j+2}'].value=float(d_stf[j])\n",
    "        ws_new[f'F{j+2}'].value=float(frq[j])/np.sqrt(5.12)\n",
    "        f_values.append(float(frq[j])/np.sqrt(5.12))\n",
    "        ws_new[f'G{j+2}'].value=float(d_stf[j])/5.12\n",
    "        d_stf_values.append(float(d_stf[j])/5.12)\n",
    "    \n",
    "wb.save(path_excel_2)\n",
    "\n",
    "  \n",
    "        \n"
   ]
  },
  {
   "cell_type": "markdown",
   "id": "f1862236",
   "metadata": {},
   "source": [
    "# To Update the Excel with Graph of the normalized curve"
   ]
  },
  {
   "cell_type": "code",
   "execution_count": 51,
   "id": "addf1227",
   "metadata": {},
   "outputs": [],
   "source": [
    "from openpyxl import load_workbook\n",
    "from openpyxl.chart import ScatterChart, Reference, Series\n",
    "\n",
    "# Load the existing workbook\n",
    "workbook = load_workbook(path_excel_2)\n",
    "\n",
    "# Iterate through each sheet\n",
    "for sheet_name in workbook.sheetnames:\n",
    "    sheet = workbook[sheet_name]\n",
    "\n",
    "    # Retrieve the data from the worksheet\n",
    "    data = []\n",
    "    for row in sheet.iter_rows(values_only=True):\n",
    "        data.append(row)\n",
    "\n",
    "    # Separate the x and y values\n",
    "    x_values = [row[5] for row in data]  # 6th column, index 5\n",
    "    y_values = [row[6] for row in data]  # 7th column, index 6\n",
    "\n",
    "    # Create a scatter chart with the data\n",
    "    chart = ScatterChart()\n",
    "    chart.title = \"Scatter Plot\"\n",
    "\n",
    "    x_data = Reference(sheet, min_col=6, min_row=2, max_row=sheet.max_row)\n",
    "    y_data = Reference(sheet, min_col=7, min_row=2, max_row=sheet.max_row)\n",
    "    series = Series(y_data, x_data)\n",
    "\n",
    "    chart.series.append(series)\n",
    "\n",
    "    # Optional: Customize chart properties\n",
    "    chart.x_axis.title = \"X Values\"\n",
    "    chart.y_axis.title = \"Y Values\"\n",
    "    chart.style = 13\n",
    "\n",
    "    # Add the chart to the sheet\n",
    "    sheet.add_chart(chart, \"I10\")\n",
    "\n",
    "# Save the modified workbook\n",
    "workbook.save(path_excel_2)\n"
   ]
  }
 ],
 "metadata": {
  "kernelspec": {
   "display_name": "Python 3 (ipykernel)",
   "language": "python",
   "name": "python3"
  },
  "language_info": {
   "codemirror_mode": {
    "name": "ipython",
    "version": 3
   },
   "file_extension": ".py",
   "mimetype": "text/x-python",
   "name": "python",
   "nbconvert_exporter": "python",
   "pygments_lexer": "ipython3",
   "version": "3.9.12"
  }
 },
 "nbformat": 4,
 "nbformat_minor": 5
}
